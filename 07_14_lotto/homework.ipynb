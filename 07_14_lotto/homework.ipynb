{
 "cells": [
  {
   "cell_type": "code",
   "execution_count": 1,
   "metadata": {},
   "outputs": [],
   "source": [
    "# 1. lotto api로부터 데이터 받아오기\n",
    "\n",
    "# 2. 지난 주 당첨 번호 알아내기 (1등만)\n",
    "\n",
    "# 3. 랜덤 모듈이 가지고 있는 샘플 이라는 함수를 사용하여 1부터 45중에 무작위 6개를 뽑는다.\n",
    "\n",
    "# 4. 그 번호가 당첨 번호와 일치하는지 확인한다.\n",
    "\n",
    "# 5. 천 번 이상 새로운 로또 번호를 생성하여서 매번 당첨이 되었는지 확인해보는 로직 작성\n",
    "\n",
    "# 6. 1등부터 2등을 포함하여 보너스 번호까지 4등 까지의 각 당첨 횟수 출력하기"
   ]
  },
  {
   "cell_type": "code",
   "execution_count": 3,
   "metadata": {},
   "outputs": [],
   "source": [
    "import requests\n",
    "from random import sample"
   ]
  },
  {
   "cell_type": "code",
   "execution_count": 4,
   "metadata": {},
   "outputs": [
    {
     "data": {
      "text/plain": [
       "{'totSellamnt': 100399659000,\n",
       " 'returnValue': 'success',\n",
       " 'drwNoDate': '2022-07-09',\n",
       " 'firstWinamnt': 2745677875,\n",
       " 'drwtNo6': 35,\n",
       " 'drwtNo4': 18,\n",
       " 'firstPrzwnerCo': 9,\n",
       " 'drwtNo5': 29,\n",
       " 'bnusNo': 25,\n",
       " 'firstAccumamnt': 24711100875,\n",
       " 'drwNo': 1023,\n",
       " 'drwtNo2': 14,\n",
       " 'drwtNo3': 16,\n",
       " 'drwtNo1': 10}"
      ]
     },
     "execution_count": 4,
     "metadata": {},
     "output_type": "execute_result"
    }
   ],
   "source": [
    "# 1. lotto api로부터 데이터 받아오기\n",
    "\n",
    "rounds = 1023\n",
    "\n",
    "url = f'https://www.dhlottery.co.kr/common.do?method=getLottoNumber&drwNo={rounds}'\n",
    "result = requests.get(url).json()\n",
    "\n",
    "result"
   ]
  },
  {
   "cell_type": "code",
   "execution_count": 5,
   "metadata": {},
   "outputs": [
    {
     "name": "stdout",
     "output_type": "stream",
     "text": [
      "이전 회차는 1023회이며, 당첨 번호는 [10, 14, 16, 18, 29, 35], 보너스 번호는 25입니다.\n"
     ]
    }
   ],
   "source": [
    "# 2. 지난 주 당첨 번호 알아내기 (1등만)\n",
    "\n",
    "def pre_No_finder():\n",
    "    rounds = 1  #시작회차 설정\n",
    "    pre_No = []\n",
    "    while True:   # 100단위로 returnValue: fail이 나올 때까지 rounds 증가\n",
    "        url = f'https://www.dhlottery.co.kr/common.do?method=getLottoNumber&drwNo={rounds}'\n",
    "        result = requests.get(url).json()\n",
    "        if len(result) < 2:\n",
    "            rounds -= 100\n",
    "            while True:  # 100단위에서 returnValue : fail 이 등장 시, 10단위로 증가시키며 returnValue : fail이 나올 때까지 반복\n",
    "                url = f'https://www.dhlottery.co.kr/common.do?method=getLottoNumber&drwNo={rounds}'\n",
    "                result = requests.get(url).json()\n",
    "                if len(result) <2:\n",
    "                    rounds -= 10\n",
    "                    while True:  # 다시 1단위로 올라가며 returnValue : fail이 등장하는 시점을 찾음.\n",
    "                        url = f'https://www.dhlottery.co.kr/common.do?method=getLottoNumber&drwNo={rounds}'\n",
    "                        result = requests.get(url).json()\n",
    "                        if len(result) <2:\n",
    "                            for i in range(1, 7):\n",
    "                                url = f'https://www.dhlottery.co.kr/common.do?method=getLottoNumber&drwNo={rounds-1}'  #이전 회차 탐색을 위해 -1\n",
    "                                result = requests.get(url).json()\n",
    "                                pre_No.append(result['drwtNo'+str(i)]) # key값인 drwtNo?의 순번에 따라 작은 숫자부터 append\n",
    "                            pre_No.append(result['bnusNo'])\n",
    "                            break\n",
    "                        rounds += 1\n",
    "                    break\n",
    "                rounds += 10\n",
    "            break\n",
    "        rounds += 100\n",
    "    rounds -= 1\n",
    "\n",
    "    print(f'이전 회차는 {rounds}회이며, 당첨 번호는 {pre_No[:-1]}, 보너스 번호는 {pre_No[-1]}입니다.')\n",
    "    \n",
    "    return pre_No\n",
    "pre_No = pre_No_finder()"
   ]
  },
  {
   "cell_type": "code",
   "execution_count": 6,
   "metadata": {},
   "outputs": [
    {
     "name": "stdout",
     "output_type": "stream",
     "text": [
      "[9, 22, 31, 34, 38, 41]\n"
     ]
    }
   ],
   "source": [
    "# 3. 랜덤 모듈이 가지고 있는 샘플 이라는 함수를 사용하여 1부터 45중에 무작위 6개를 뽑는다.\n",
    "\n",
    "def sample_No_make():\n",
    "    return sorted(sample(range(1, 45), 6))\n",
    "\n",
    "sample_No = sample_No_make()\n",
    "print(sample_No)"
   ]
  },
  {
   "cell_type": "code",
   "execution_count": 7,
   "metadata": {},
   "outputs": [
    {
     "name": "stdout",
     "output_type": "stream",
     "text": [
      "맞춘 개수: 0 + 0(보너스), 맞은 번호: [], 보너스 번호25번을 맞추지 못 했습니다\n"
     ]
    }
   ],
   "source": [
    "# 4. 그 번호가 당첨 번호와 일치하는지 확인한다.\n",
    "\n",
    "def sample_No_set(pre_No):\n",
    "    cnt = 0\n",
    "    bns_cnt = [0, '맞추지 못 했습니다']\n",
    "    same_No = []\n",
    "\n",
    "    for i in pre_No[:-1]:\n",
    "        if i in sample_No:\n",
    "            cnt +=1\n",
    "            same_No.append(i)\n",
    "\n",
    "    if pre_No[-1] in same_No:\n",
    "        bns_cnt = [1, '맞췄습니다.']  #;\n",
    "\n",
    "    print(f'맞춘 개수: {cnt} + {bns_cnt[0]}(보너스), 맞은 번호: {same_No}, 보너스 번호{pre_No[-1]}번을 {bns_cnt[1]}')\n",
    "\n",
    "sample_No_set(pre_No)"
   ]
  },
  {
   "cell_type": "code",
   "execution_count": 9,
   "metadata": {},
   "outputs": [],
   "source": [
    "# 5. 천 번 이상 새로운 로또 번호를 생성하여서 매번 당첨이 되었는지 확인해보는 로직 작성\n",
    "\n",
    "for i in range(100000):\n",
    "    sample_No = sample_No_make()\n",
    "    cnt = 0\n",
    "    for j in pre_No[:-1]:\n",
    "        if j in sample_No:\n",
    "            cnt +=1\n",
    "    if cnt == 6:\n",
    "        print('congratulation, you win')"
   ]
  },
  {
   "cell_type": "code",
   "execution_count": 11,
   "metadata": {},
   "outputs": [
    {
     "name": "stdout",
     "output_type": "stream",
     "text": [
      "1등 당첨회수: 1\n",
      "2등 당첨회수: 10\n",
      "3등 당첨회수: 328\n",
      "4등 당첨회수: 15150\n",
      "5등 당첨회수: 238902\n"
     ]
    }
   ],
   "source": [
    "# 6. 1등부터 2등을 포함하여 보너스 번호까지 4등 까지의 각 당첨 횟수 출력하기\n",
    "\n",
    "win_cnt = {'1': 0, '2':0, '3':0, '4':0, '5':0}\n",
    "\n",
    "for i in range(10000000):\n",
    "    sample_No = sample_No_make()\n",
    "    cnt, bns_cnt = 0, 0\n",
    "    same_No = []\n",
    "    \n",
    "    for i in pre_No[:-1]:\n",
    "        if i in sample_No:\n",
    "            cnt +=1\n",
    "            same_No.append(i)\n",
    "\n",
    "    if pre_No[-1] in sample_No:\n",
    "        bns_cnt = 1\n",
    "\n",
    "    if cnt == 6:\n",
    "        win_cnt['1'] += 1\n",
    "    elif (cnt == 5) and (bns_cnt == 1):\n",
    "        win_cnt['2'] += 1\n",
    "    elif (cnt == 5) and (bns_cnt == 0):\n",
    "        win_cnt['3'] += 1\n",
    "    elif cnt == 4:\n",
    "        win_cnt['4'] += 1\n",
    "    elif cnt == 3:\n",
    "        win_cnt['5'] += 1\n",
    "\n",
    "print(f'''1등 당첨회수: {win_cnt['1']}\n",
    "2등 당첨회수: {win_cnt['2']}\n",
    "3등 당첨회수: {win_cnt['3']}\n",
    "4등 당첨회수: {win_cnt['4']}\n",
    "5등 당첨회수: {win_cnt['5']}''')"
   ]
  }
 ],
 "metadata": {
  "kernelspec": {
   "display_name": "Python 3.9.13 64-bit",
   "language": "python",
   "name": "python3"
  },
  "language_info": {
   "codemirror_mode": {
    "name": "ipython",
    "version": 3
   },
   "file_extension": ".py",
   "mimetype": "text/x-python",
   "name": "python",
   "nbconvert_exporter": "python",
   "pygments_lexer": "ipython3",
   "version": "3.9.13"
  },
  "orig_nbformat": 4,
  "vscode": {
   "interpreter": {
    "hash": "c4b9ebf4ca459396e2ad1150752490c26670c1a037c08cad955a4425787bec2e"
   }
  }
 },
 "nbformat": 4,
 "nbformat_minor": 2
}
