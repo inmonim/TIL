{
 "cells": [
  {
   "cell_type": "code",
   "execution_count": 7,
   "metadata": {},
   "outputs": [],
   "source": [
    "from lotto_module import *\n",
    "\n",
    "# 지난 주 로또 1등 번호 불러오기: pre_No_finder()\n",
    "\n",
    "# 자동 번호 생성기: sample_No_make()\n",
    "\n",
    "# 자동 번호 생성과 지난 주 로또 맞춰보기 : sample_No_set(pre_No, sample_No)\n",
    "# *pre_No: pre_No_finder()로 리턴한 로또번호, sample_No: sample_No_make()로 리턴한 자동 로또 번호\n",
    "\n",
    "# 1000번 중 1등 당첨이 가능했는가?: sample_win_1000(pre_No)\n",
    "\n",
    "# rounds개의 자동 생성 번호 중 당첨 등수 당 당첨자 수?: all_win_stacks(pre_No, rounds):"
   ]
  },
  {
   "cell_type": "markdown",
   "metadata": {},
   "source": [
    "### 지난 주 로또 1등 번호 불러오기\n",
    "\n",
    "#### return 값으로 1등 번호 + 보너스 번호를 리스트를 환원"
   ]
  },
  {
   "cell_type": "code",
   "execution_count": 1,
   "metadata": {},
   "outputs": [],
   "source": [
    "pre_No = pre_No_finder()"
   ]
  },
  {
   "cell_type": "markdown",
   "metadata": {},
   "source": [
    "### 자동 번호 생성기"
   ]
  },
  {
   "cell_type": "code",
   "execution_count": 3,
   "metadata": {},
   "outputs": [],
   "source": [
    "sample_No = sample_No_make()"
   ]
  },
  {
   "cell_type": "markdown",
   "metadata": {},
   "source": [
    "### 자동 번호 생성과 지난 주 로또 맞춰보기\n",
    "##### pre_No 인자: pre_No_finder()로 리턴한 로또번호\n",
    "##### sample_No 인자: sample_No_make()로 리턴한 자동 로또 번호"
   ]
  },
  {
   "cell_type": "code",
   "execution_count": 4,
   "metadata": {},
   "outputs": [
    {
     "data": {
      "text/plain": [
       "'맞춘 개수: 1 + 0(보너스), 맞은 번호: [18], 보너스 번호25번을 맞추지 못 했습니다'"
      ]
     },
     "execution_count": 4,
     "metadata": {},
     "output_type": "execute_result"
    }
   ],
   "source": [
    "sample_No_set(pre_No, sample_No)"
   ]
  },
  {
   "cell_type": "markdown",
   "metadata": {},
   "source": [
    "### 1000번 중 1등 당첨이 가능했는가?\n",
    "\n",
    "#### pre_No 인자: pre_No_finder()로 return 받은 로또 번호 리스트\n",
    "\n",
    "##### 한 번 이라도 당첨 시 you win 출력"
   ]
  },
  {
   "cell_type": "code",
   "execution_count": 5,
   "metadata": {},
   "outputs": [
    {
     "name": "stdout",
     "output_type": "stream",
     "text": [
      "congratulation, you win\n"
     ]
    }
   ],
   "source": [
    "sample_win_1000(pre_No)"
   ]
  },
  {
   "cell_type": "markdown",
   "metadata": {},
   "source": [
    "### rounds개의 자동 생성 번호 중 당첨 등수 당 당첨자 수"
   ]
  },
  {
   "cell_type": "code",
   "execution_count": 6,
   "metadata": {},
   "outputs": [
    {
     "name": "stdout",
     "output_type": "stream",
     "text": [
      "1등 당첨회수: 0\n",
      "2등 당첨회수: 0\n",
      "3등 당첨회수: 0\n",
      "4등 당첨회수: 20\n",
      "5등 당첨회수: 231\n"
     ]
    }
   ],
   "source": [
    "all_win_stacks(pre_No, 10000)"
   ]
  }
 ],
 "metadata": {
  "kernelspec": {
   "display_name": "Python 3.9.13 64-bit",
   "language": "python",
   "name": "python3"
  },
  "language_info": {
   "codemirror_mode": {
    "name": "ipython",
    "version": 3
   },
   "file_extension": ".py",
   "mimetype": "text/x-python",
   "name": "python",
   "nbconvert_exporter": "python",
   "pygments_lexer": "ipython3",
   "version": "3.9.13"
  },
  "orig_nbformat": 4,
  "vscode": {
   "interpreter": {
    "hash": "c4b9ebf4ca459396e2ad1150752490c26670c1a037c08cad955a4425787bec2e"
   }
  }
 },
 "nbformat": 4,
 "nbformat_minor": 2
}
